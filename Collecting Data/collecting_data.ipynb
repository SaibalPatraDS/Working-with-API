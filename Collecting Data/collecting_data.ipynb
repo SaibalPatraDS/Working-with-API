{
 "cells": [
  {
   "attachments": {},
   "cell_type": "markdown",
   "metadata": {},
   "source": [
    "# Working with APIs"
   ]
  },
  {
   "attachments": {},
   "cell_type": "markdown",
   "metadata": {},
   "source": [
    "## Importing Libraries"
   ]
  },
  {
   "cell_type": "code",
   "execution_count": null,
   "metadata": {},
   "outputs": [],
   "source": [
    "## importing libraries\n",
    "\n",
    "import requests\n",
    "import pandas as pd\n",
    "import time"
   ]
  },
  {
   "attachments": {},
   "cell_type": "markdown",
   "metadata": {},
   "source": [
    "## Creating API Keys"
   ]
  },
  {
   "cell_type": "code",
   "execution_count": null,
   "metadata": {},
   "outputs": [],
   "source": [
    "## keys\n",
    "\n",
    "API_KEY = 'xxxxxx'\n",
    "# channel_ID = 'xxxx'  # 1 own channel\n",
    "channel_ID = 'UCq-Fj5jknLsUf-MWSy4_brA'   # T SERIES"
   ]
  },
  {
   "attachments": {},
   "cell_type": "markdown",
   "metadata": {},
   "source": [
    "## Calling API and Collecting info about Video"
   ]
  },
  {
   "cell_type": "code",
   "execution_count": null,
   "metadata": {},
   "outputs": [],
   "source": [
    "## calling API keys\n",
    "\n",
    "# url = f'https://www.googleapis.com/youtube/v3/channels?part=statistics&id={channel_ID}&key={API_ID}'\n",
    "\n",
    "# url = \"https://www.googleapis.com/youtube/v3/videos?id=\"+channel_ID+\"&part=statistics&key=\"+API_KEY\n",
    "pageToken = ''\n",
    "url = \"https://www.googleapis.com/youtube/v3/search?key=\"+API_KEY+\"&channelId=\"+channel_ID+\"&part=snippet,id&order=date&maxResults=10000&\"+pageToken\n",
    "\n",
    "## getting data\n",
    "results = requests.get(url).json()"
   ]
  },
  {
   "cell_type": "code",
   "execution_count": null,
   "metadata": {},
   "outputs": [],
   "source": [
    "# results"
   ]
  },
  {
   "cell_type": "code",
   "execution_count": null,
   "metadata": {},
   "outputs": [],
   "source": [
    "results.keys()  #keys of the dictionary"
   ]
  },
  {
   "cell_type": "code",
   "execution_count": null,
   "metadata": {},
   "outputs": [],
   "source": [
    "dict_keys = results['items'][0].keys()\n",
    "dict_keys"
   ]
  },
  {
   "cell_type": "code",
   "execution_count": null,
   "metadata": {},
   "outputs": [],
   "source": [
    "# for i in dict_keys:\n",
    "#     print(i, \" : \",results['items'][1][i])\n",
    "\n",
    "results_keys = results['items'][1]['snippet'].keys()\n",
    "# video title\n",
    "video_title = results['items'][1]['snippet']['title']\n",
    "# video publish time\n",
    "video_publishtime = results['items'][1]['snippet']['publishTime']\n",
    "# video ID\n",
    "video_id = results['items'][1]['id']['videoId']\n",
    "\n",
    "video_publish_date = video_publishtime.split('T')[0]\n",
    "video_publish_time = video_publishtime.split('T')[1]\n",
    "\n",
    "video_title, video_publish_date, video_publish_time\n",
    "\n",
    "print(f\"Details of video,\\nvideo title : {video_title},\\nvideo publish Date : {video_publish_date},\\nvideo publish time : {video_publish_time},\\nvideo ID : {video_id}\")"
   ]
  },
  {
   "cell_type": "code",
   "execution_count": null,
   "metadata": {},
   "outputs": [],
   "source": [
    "# for i in results['items']:\n",
    "#     print(i['id']['videoId'])\n",
    "\n",
    "#     break"
   ]
  },
  {
   "cell_type": "code",
   "execution_count": null,
   "metadata": {},
   "outputs": [],
   "source": [
    "# results_keys, dict_keys"
   ]
  },
  {
   "cell_type": "code",
   "execution_count": null,
   "metadata": {},
   "outputs": [],
   "source": [
    "# len(results['items'])"
   ]
  },
  {
   "cell_type": "code",
   "execution_count": null,
   "metadata": {},
   "outputs": [],
   "source": [
    "# results['items'][1]['id']['videoId']"
   ]
  },
  {
   "cell_type": "code",
   "execution_count": null,
   "metadata": {},
   "outputs": [],
   "source": [
    "## creating for loop to create the necessary result\n",
    "\n",
    "video_ID = [] #collecting all video_id\n",
    "video_Title = [] # collecting all video title\n",
    "upload_Date = [] # collecting all upload date\n",
    "\n",
    "\n",
    "for video in results['items']:    # video = results['items][#num]\n",
    "    if video['id']['kind'] == 'youtube#video':\n",
    "        video_id = video['id']['videoId']  # video ID\n",
    "\n",
    "        video_ID.append(video_id)  ## collecting all video id\n",
    "\n",
    "        # video title\n",
    "        video_title = video['snippet']['title']\n",
    "        video_Title.append(video_title) # collecting all video title\n",
    "        # video publish time\n",
    "        video_publishtime = video['snippet']['publishTime']\n",
    "        # video publish date\n",
    "        upload_date = video_publishtime.split('T')[0]\n",
    "        upload_Date.append(upload_date)  # collecting all upload date\n",
    "\n",
    "        try:\n",
    "            if results['nextPageToken'] != None: #if none, it means it reached the last page and break out of it\n",
    "                pageToken = \"pageToken=\" + results['nextPageToken']\n",
    "\n",
    "        except:\n",
    "            break\n",
    "\n",
    "\n",
    "        # print(video_id,'\\n',video_title,'\\n',upload_date)"
   ]
  },
  {
   "cell_type": "code",
   "execution_count": null,
   "metadata": {},
   "outputs": [],
   "source": [
    "# upload_Date"
   ]
  },
  {
   "attachments": {},
   "cell_type": "markdown",
   "metadata": {},
   "source": [
    "## Make A Second API call to Collect stats about channel Videos\n",
    "\n",
    "**total views, total likes, total dislikes, total comments**"
   ]
  },
  {
   "cell_type": "code",
   "execution_count": null,
   "metadata": {},
   "outputs": [],
   "source": [
    "# video_ID"
   ]
  },
  {
   "cell_type": "code",
   "execution_count": null,
   "metadata": {},
   "outputs": [],
   "source": [
    "## collecting Statistical data from API\n",
    "url_video_stats = \"https://www.googleapis.com/youtube/v3/videos?part=statistics&id=\"+video_id+\"&key=\"+API_KEY\n",
    "\n",
    "## getting data\n",
    "results_video_stats = requests.get(url_video_stats).json()  ##dictionary"
   ]
  },
  {
   "cell_type": "code",
   "execution_count": null,
   "metadata": {},
   "outputs": [],
   "source": [
    "## Creating loop to access all data for all videoes\n",
    "\n",
    "view_count = []  # collecting all views\n",
    "like_count = []  # collecting all likes\n",
    "view_comment = []  # collecting all comments counts\n",
    "favourite_count = []  # collecting all favourite counts\n",
    "\n",
    "for videoid in video_ID:   # accessing all videos\n",
    "    url_video_stats = \"https://www.googleapis.com/youtube/v3/videos?part=statistics&id=\"+videoid+\"&key=\"+API_KEY\n",
    "    ## getting the data\n",
    "    results_video_stats = requests.get(url_video_stats).json()  ##dictionary\n",
    "    view_count.append(results_video_stats['items'][0]['statistics']['viewCount']) ## view count\n",
    "    like_count.append(results_video_stats['items'][0]['statistics']['likeCount'])  ## like count\n",
    "    view_comment.append(results_video_stats['items'][0]['statistics']['commentCount'])  ## view count\n",
    "    favourite_count.append(results_video_stats['items'][0]['statistics']['favoriteCount'])  ## favourite count\n",
    "\n"
   ]
  },
  {
   "cell_type": "code",
   "execution_count": null,
   "metadata": {},
   "outputs": [],
   "source": [
    "# view_count"
   ]
  },
  {
   "cell_type": "code",
   "execution_count": null,
   "metadata": {},
   "outputs": [],
   "source": [
    "# results_video_stats['items'][0]['statistics']"
   ]
  },
  {
   "cell_type": "code",
   "execution_count": null,
   "metadata": {},
   "outputs": [],
   "source": [
    "## creating a dataframe returning the result\n",
    "\n",
    "yt_data = pd.DataFrame({'video_ID' : video_ID, 'Title' : video_Title, 'Upload Date':upload_Date, 'Views' : view_count, 'Total Comments':view_comment, 'Total Fav Count':favourite_count})"
   ]
  },
  {
   "cell_type": "code",
   "execution_count": null,
   "metadata": {},
   "outputs": [],
   "source": [
    "# video_ID, video_Title, upload_Date, view_count, like_count, view_comment, favourite_count"
   ]
  },
  {
   "cell_type": "code",
   "execution_count": null,
   "metadata": {},
   "outputs": [],
   "source": [
    "yt_data"
   ]
  },
  {
   "cell_type": "code",
   "execution_count": null,
   "metadata": {},
   "outputs": [],
   "source": [
    "yt_data.to_csv(\"Data/youtube_data.csv\", index = False)"
   ]
  },
  {
   "cell_type": "code",
   "execution_count": null,
   "metadata": {},
   "outputs": [],
   "source": []
  }
 ],
 "metadata": {
  "kernelspec": {
   "display_name": "jupyter notebook",
   "language": "python",
   "name": "python3"
  },
  "language_info": {
   "codemirror_mode": {
    "name": "ipython",
    "version": 3
   },
   "file_extension": ".py",
   "mimetype": "text/x-python",
   "name": "python",
   "nbconvert_exporter": "python",
   "pygments_lexer": "ipython3",
   "version": "3.10.9"
  },
  "orig_nbformat": 4
 },
 "nbformat": 4,
 "nbformat_minor": 2
}
